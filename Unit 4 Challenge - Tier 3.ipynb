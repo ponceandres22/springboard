{
 "cells": [
  {
   "cell_type": "markdown",
   "metadata": {
    "colab_type": "text",
    "id": "Tia3MP1SJpgj"
   },
   "source": [
    "# Springboard Data Science Career Track Unit 4 Challenge - Tier 3 Complete\n",
    "\n",
    "## Objectives\n",
    "Hey! Great job getting through those challenging DataCamp courses. You're learning a lot in a short span of time. \n",
    "\n",
    "In this notebook, you're going to apply the skills you've been learning, bridging the gap between the controlled environment of DataCamp and the *slightly* messier work that data scientists do with actual datasets!\n",
    "\n",
    "Here’s the mystery we’re going to solve: ***which boroughs of London have seen the greatest increase in housing prices, on average, over the last two decades?***\n",
    "\n",
    "\n",
    "A borough is just a fancy word for district. You may be familiar with the five boroughs of New York… well, there are 32 boroughs within Greater London [(here's some info for the curious)](https://en.wikipedia.org/wiki/London_boroughs). Some of them are more desirable areas to live in, and the data will reflect that with a greater rise in housing prices.\n",
    "\n",
    "***This is the Tier 3 notebook, which means it's not filled in at all: we'll just give you the skeleton of a project, the brief and the data. It's up to you to play around with it and see what you can find out! Good luck! If you struggle, feel free to look at easier tiers for help; but try to dip in and out of them, as the more independent work you do, the better it is for your learning!***\n",
    "\n",
    "This challenge will make use of only what you learned in the following DataCamp courses: \n",
    "- Prework courses (Introduction to Python for Data Science, Intermediate Python for Data Science)\n",
    "- Data Types for Data Science\n",
    "- Python Data Science Toolbox (Part One) \n",
    "- pandas Foundations\n",
    "- Manipulating DataFrames with pandas\n",
    "- Merging DataFrames with pandas\n",
    "\n",
    "Of the tools, techniques and concepts in the above DataCamp courses, this challenge should require the application of the following: \n",
    "- **pandas**\n",
    "    - **data ingestion and inspection** (pandas Foundations, Module One) \n",
    "    - **exploratory data analysis** (pandas Foundations, Module Two)\n",
    "    - **tidying and cleaning** (Manipulating DataFrames with pandas, Module Three) \n",
    "    - **transforming DataFrames** (Manipulating DataFrames with pandas, Module One)\n",
    "    - **subsetting DataFrames with lists** (Manipulating DataFrames with pandas, Module One) \n",
    "    - **filtering DataFrames** (Manipulating DataFrames with pandas, Module One) \n",
    "    - **grouping data** (Manipulating DataFrames with pandas, Module Four) \n",
    "    - **melting data** (Manipulating DataFrames with pandas, Module Three) \n",
    "    - **advanced indexing** (Manipulating DataFrames with pandas, Module Four) \n",
    "- **matplotlib** (Intermediate Python for Data Science, Module One)\n",
    "- **fundamental data types** (Data Types for Data Science, Module One) \n",
    "- **dictionaries** (Intermediate Python for Data Science, Module Two)\n",
    "- **handling dates and times** (Data Types for Data Science, Module Four)\n",
    "- **function definition** (Python Data Science Toolbox - Part One, Module One)\n",
    "- **default arguments, variable length, and scope** (Python Data Science Toolbox - Part One, Module Two) \n",
    "- **lambda functions and error handling** (Python Data Science Toolbox - Part One, Module Four) "
   ]
  },
  {
   "cell_type": "markdown",
   "metadata": {
    "colab_type": "text",
    "id": "Ipgd2nV8Jpgl"
   },
   "source": [
    "## The Data Science Pipeline\n",
    "\n",
    "This is Tier Three, so we'll get you started. But after that, it's all in your hands! When you feel done with your investigations, look back over what you've accomplished, and prepare a quick presentation of your findings for the next mentor meeting. \n",
    "\n",
    "Data Science is magical. In this case study, you'll get to apply some complex machine learning algorithms. But as  [David Spiegelhalter](https://www.youtube.com/watch?v=oUs1uvsz0Ok) reminds us, there is no substitute for simply **taking a really, really good look at the data.** Sometimes, this is all we need to answer our question.\n",
    "\n",
    "Data Science projects generally adhere to the four stages of Data Science Pipeline:\n",
    "1. Sourcing and loading \n",
    "2. Cleaning, transforming, and visualizing \n",
    "3. Modeling \n",
    "4. Evaluating and concluding \n"
   ]
  },
  {
   "cell_type": "markdown",
   "metadata": {
    "colab_type": "text",
    "id": "zswDqbefJpgm"
   },
   "source": [
    "### 1. Sourcing and Loading \n",
    "\n",
    "Any Data Science project kicks off by importing  ***pandas***. The documentation of this wonderful library can be found [here](https://pandas.pydata.org/). As you've seen, pandas is conveniently connected to the [Numpy](http://www.numpy.org/) and [Matplotlib](https://matplotlib.org/) libraries. \n",
    "\n",
    "***Hint:*** This part of the data science pipeline will test those skills you acquired in the pandas Foundations course, Module One. "
   ]
  },
  {
   "cell_type": "markdown",
   "metadata": {
    "colab_type": "text",
    "id": "aEau5nEvJpgm"
   },
   "source": [
    "#### 1.1. Importing Libraries"
   ]
  },
  {
   "cell_type": "code",
   "execution_count": 47,
   "metadata": {
    "colab": {},
    "colab_type": "code",
    "id": "7Bt_Q_oPJpgn"
   },
   "outputs": [],
   "source": [
    "# Let's import the pandas, numpy libraries as pd, and np respectively. \n",
    "import numpy as np\n",
    "import pandas as pd\n",
    "\n",
    "# Load the pyplot collection of functions from matplotlib, as plt \n",
    "import matplotlib.pyplot as plt"
   ]
  },
  {
   "cell_type": "markdown",
   "metadata": {
    "colab_type": "text",
    "id": "koUrawxsJpgq"
   },
   "source": [
    "#### 1.2.  Loading the data\n",
    "Your data comes from the [London Datastore](https://data.london.gov.uk/): a free, open-source data-sharing portal for London-oriented datasets. "
   ]
  },
  {
   "cell_type": "code",
   "execution_count": 49,
   "metadata": {
    "colab": {},
    "colab_type": "code",
    "id": "AiLiD4v3Jpgr"
   },
   "outputs": [],
   "source": [
    "# First, make a variable called url_LondonHousePrices, and assign it the following link, enclosed in quotation-marks as a string:\n",
    "# https://data.london.gov.uk/download/uk-house-price-index/70ac0766-8902-4eb5-aab5-01951aaed773/UK%20House%20price%20index.xls\n",
    "\n",
    "url_LondonHousePrices = \"https://data.london.gov.uk/download/uk-house-price-index/70ac0766-8902-4eb5-aab5-01951aaed773/UK%20House%20price%20index.xls\"\n",
    "\n",
    "# The dataset we're interested in contains the Average prices of the houses, and is actually on a particular sheet of the Excel file. \n",
    "# As a result, we need to specify the sheet name in the read_excel() method.\n",
    "# Put this data into a variable called properties.  \n",
    "properties = pd.read_excel(url_LondonHousePrices, sheet_name='Average price', index_col= None)"
   ]
  },
  {
   "cell_type": "markdown",
   "metadata": {
    "colab_type": "text",
    "id": "POukEJXgJpgu"
   },
   "source": [
    "### 2. Cleaning, transforming, and visualizing\n",
    "This second stage is arguably the most important part of any Data Science project. The first thing to do is take a proper look at the data. Cleaning forms the majority of this stage, and can be done both before or after Transformation.\n",
    "\n",
    "The end goal of data cleaning is to have tidy data. When data is tidy: \n",
    "\n",
    "1. Each variable has a column.\n",
    "2. Each observation forms a row.\n",
    "\n",
    "Keep the end goal in mind as you move through this process, every step will take you closer. \n",
    "\n",
    "\n",
    "\n",
    "***Hint:*** This part of the data science pipeline should test those skills you acquired in: \n",
    "- Intermediate Python for data science, all modules.\n",
    "- pandas Foundations, all modules. \n",
    "- Manipulating DataFrames with pandas, all modules.\n",
    "- Data Types for Data Science, Module Four.\n",
    "- Python Data Science Toolbox - Part One, all modules"
   ]
  },
  {
   "cell_type": "markdown",
   "metadata": {
    "colab_type": "text",
    "id": "Te0Q548tnzZa"
   },
   "source": [
    "**2.1. Exploring your data** \n",
    "\n",
    "Think about your pandas functions for checking out a dataframe. "
   ]
  },
  {
   "cell_type": "code",
   "execution_count": 57,
   "metadata": {
    "colab": {},
    "colab_type": "code",
    "id": "Rxirxw_qoAJa"
   },
   "outputs": [
    {
     "name": "stdout",
     "output_type": "stream",
     "text": [
      "  Unnamed: 0 City of London Barking & Dagenham       Barnet       Bexley  \\\n",
      "0        NaT      E09000001          E09000002    E09000003    E09000004   \n",
      "1 1995-01-01    91448.98487         50460.2266  93284.51832  64958.09036   \n",
      "2 1995-02-01    82202.77314        51085.77983  93190.16963  64787.92069   \n",
      "3 1995-03-01    79120.70256        51268.96956  92247.52435  64367.49344   \n",
      "4 1995-04-01    77101.20804        53133.50526  90762.87492  64277.66881   \n",
      "\n",
      "         Brent      Bromley       Camden      Croydon       Ealing  ...  \\\n",
      "0    E09000005    E09000006    E09000007    E09000008    E09000009  ...   \n",
      "1  71306.56698  81671.47692  120932.8881  69158.16225  79885.89069  ...   \n",
      "2  72022.26197  81657.55944  119508.8622  68951.09542  80897.06551  ...   \n",
      "3  72015.76274  81449.31143  120282.2131  68712.44341  81379.86288  ...   \n",
      "4  72965.63094  81124.41227   120097.899  68610.04641  82188.90498  ...   \n",
      "\n",
      "    NORTH WEST YORKS & THE HUMBER EAST MIDLANDS WEST MIDLANDS EAST OF ENGLAND  \\\n",
      "0    E12000002          E12000003     E12000004     E12000005       E12000006   \n",
      "1  43958.48001        44803.42878   45544.52227   48527.52339      56701.5961   \n",
      "2  43925.42289        44528.80721   46051.57066   49341.29029     56593.59475   \n",
      "3   44434.8681        45200.46775   45383.82395   49442.17973     56171.18278   \n",
      "4   44267.7796        45614.34341   46124.23045   49455.93299     56567.89582   \n",
      "\n",
      "        LONDON   SOUTH EAST   SOUTH WEST Unnamed: 47      England  \n",
      "0    E12000007    E12000008    E12000009         NaN    E92000001  \n",
      "1  74435.76052  64018.87894   54705.1579         NaN  53202.77128  \n",
      "2  72777.93709  63715.02399  54356.14843         NaN   53096.1549  \n",
      "3  73896.84204  64113.60858  53583.07667         NaN   53201.2843  \n",
      "4  74455.28754  64623.22395  54786.01938         NaN   53590.8548  \n",
      "\n",
      "[5 rows x 49 columns]\n",
      "Index(['Unnamed: 0', 'City of London', 'Barking & Dagenham', 'Barnet',\n",
      "       'Bexley', 'Brent', 'Bromley', 'Camden', 'Croydon', 'Ealing', 'Enfield',\n",
      "       'Greenwich', 'Hackney', 'Hammersmith & Fulham', 'Haringey', 'Harrow',\n",
      "       'Havering', 'Hillingdon', 'Hounslow', 'Islington',\n",
      "       'Kensington & Chelsea', 'Kingston upon Thames', 'Lambeth', 'Lewisham',\n",
      "       'Merton', 'Newham', 'Redbridge', 'Richmond upon Thames', 'Southwark',\n",
      "       'Sutton', 'Tower Hamlets', 'Waltham Forest', 'Wandsworth',\n",
      "       'Westminster', 'Unnamed: 34', 'Inner London', 'Outer London',\n",
      "       'Unnamed: 37', 'NORTH EAST', 'NORTH WEST', 'YORKS & THE HUMBER',\n",
      "       'EAST MIDLANDS', 'WEST MIDLANDS', 'EAST OF ENGLAND', 'LONDON',\n",
      "       'SOUTH EAST', 'SOUTH WEST', 'Unnamed: 47', 'England'],\n",
      "      dtype='object')\n"
     ]
    },
    {
     "data": {
      "text/html": [
       "<div>\n",
       "<style scoped>\n",
       "    .dataframe tbody tr th:only-of-type {\n",
       "        vertical-align: middle;\n",
       "    }\n",
       "\n",
       "    .dataframe tbody tr th {\n",
       "        vertical-align: top;\n",
       "    }\n",
       "\n",
       "    .dataframe thead th {\n",
       "        text-align: right;\n",
       "    }\n",
       "</style>\n",
       "<table border=\"1\" class=\"dataframe\">\n",
       "  <thead>\n",
       "    <tr style=\"text-align: right;\">\n",
       "      <th></th>\n",
       "      <th>City of London</th>\n",
       "    </tr>\n",
       "  </thead>\n",
       "  <tbody>\n",
       "    <tr>\n",
       "      <th>0</th>\n",
       "      <td>E09000001</td>\n",
       "    </tr>\n",
       "    <tr>\n",
       "      <th>1</th>\n",
       "      <td>91448.98487</td>\n",
       "    </tr>\n",
       "    <tr>\n",
       "      <th>2</th>\n",
       "      <td>82202.77314</td>\n",
       "    </tr>\n",
       "    <tr>\n",
       "      <th>3</th>\n",
       "      <td>79120.70256</td>\n",
       "    </tr>\n",
       "    <tr>\n",
       "      <th>4</th>\n",
       "      <td>77101.20804</td>\n",
       "    </tr>\n",
       "    <tr>\n",
       "      <th>...</th>\n",
       "      <td>...</td>\n",
       "    </tr>\n",
       "    <tr>\n",
       "      <th>348</th>\n",
       "      <td>804808</td>\n",
       "    </tr>\n",
       "    <tr>\n",
       "      <th>349</th>\n",
       "      <td>798179</td>\n",
       "    </tr>\n",
       "    <tr>\n",
       "      <th>350</th>\n",
       "      <td>785962</td>\n",
       "    </tr>\n",
       "    <tr>\n",
       "      <th>351</th>\n",
       "      <td>755712</td>\n",
       "    </tr>\n",
       "    <tr>\n",
       "      <th>352</th>\n",
       "      <td>778946</td>\n",
       "    </tr>\n",
       "  </tbody>\n",
       "</table>\n",
       "<p>353 rows × 1 columns</p>\n",
       "</div>"
      ],
      "text/plain": [
       "    City of London\n",
       "0        E09000001\n",
       "1      91448.98487\n",
       "2      82202.77314\n",
       "3      79120.70256\n",
       "4      77101.20804\n",
       "..             ...\n",
       "348         804808\n",
       "349         798179\n",
       "350         785962\n",
       "351         755712\n",
       "352         778946\n",
       "\n",
       "[353 rows x 1 columns]"
      ]
     },
     "execution_count": 57,
     "metadata": {},
     "output_type": "execute_result"
    }
   ],
   "source": [
    "print(properties.head())\n",
    "print(properties.columns)\n",
    "properties[[\"City of London\"]]"
   ]
  },
  {
   "cell_type": "markdown",
   "metadata": {
    "colab_type": "text",
    "id": "tE9Sqt9-oAta"
   },
   "source": [
    "**2.2. Cleaning the data**\n",
    "\n",
    "You might find you need to transpose your dataframe, check out what its row indexes are, and reset the index. You  also might find you need to assign the values of the first row to your column headings  . (Hint: recall the .columns feature of DataFrames, as well as the iloc[] method).\n",
    "\n",
    "Don't be afraid to use StackOverflow for help  with this."
   ]
  },
  {
   "cell_type": "code",
   "execution_count": 667,
   "metadata": {
    "colab": {},
    "colab_type": "code",
    "id": "cdAu1A3YoH_r"
   },
   "outputs": [
    {
     "name": "stdout",
     "output_type": "stream",
     "text": [
      "index             Unnamed: 0\n",
      "0                        NaT\n",
      "1        1995-01-01 00:00:00\n",
      "2        1995-02-01 00:00:00\n",
      "3        1995-03-01 00:00:00\n",
      "                ...         \n",
      "348      2023-12-01 00:00:00\n",
      "349      2024-01-01 00:00:00\n",
      "350      2024-02-01 00:00:00\n",
      "351      2024-03-01 00:00:00\n",
      "352      2024-04-01 00:00:00\n",
      "Name: 0, Length: 354, dtype: object\n"
     ]
    }
   ],
   "source": [
    "properties_transpose = properties.T.reset_index()\n",
    "properties_columns = properties_transpose.iloc[0]\n",
    "properties_transpose2 = properties_transpose.rename(columns = properties_columns)\n",
    "properties_transpose3 = properties_transpose2.iloc[1:]"
   ]
  },
  {
   "cell_type": "markdown",
   "metadata": {
    "colab_type": "text",
    "id": "o1uLbJAsoIjK"
   },
   "source": [
    "**2.3. Cleaning the data (part 2)**\n",
    "\n",
    "You might we have to **rename** a couple columns. How do you do this? The clue's pretty bold..."
   ]
  },
  {
   "cell_type": "code",
   "execution_count": 283,
   "metadata": {
    "colab": {},
    "colab_type": "code",
    "id": "GKkmn1AnoVZS"
   },
   "outputs": [],
   "source": [
    "properties_transpose4 = properties_transpose3.rename(columns = {'Unnamed: 0':'city', 1:'ID'})\n",
    "properties_transpose4.iloc[:,2:] = properties_transpose4.iloc[:,2:].apply(pd.to_numeric)"
   ]
  },
  {
   "cell_type": "markdown",
   "metadata": {
    "colab_type": "text",
    "id": "jy8BzXHmoWEw"
   },
   "source": [
    "**2.4.Transforming the data**\n",
    "\n",
    "Remember what Wes McKinney said about tidy data? \n",
    "\n",
    "You might need to **melt** your DataFrame here. "
   ]
  },
  {
   "cell_type": "code",
   "execution_count": 295,
   "metadata": {
    "colab": {},
    "colab_type": "code",
    "id": "S2wM0qLuo2Zt"
   },
   "outputs": [
    {
     "name": "stdout",
     "output_type": "stream",
     "text": [
      "                 city         ID              yyyy-mm         cost\n",
      "0      City of London  E09000001  1995-01-01 00:00:00  91448.98487\n",
      "7056   City of London  E09000001  2007-04-01 00:00:00  419005.3235\n",
      "1056   City of London  E09000001  1996-11-01 00:00:00  99706.77553\n",
      "7008   City of London  E09000001  2007-03-01 00:00:00   403144.195\n",
      "15360  City of London  E09000001  2021-09-01 00:00:00     910270.0\n",
      "...               ...        ...                  ...          ...\n",
      "16836     Unnamed: 37        NaN  2024-03-01 00:00:00          NaN\n",
      "16846     Unnamed: 47        NaN  2024-03-01 00:00:00          NaN\n",
      "16881     Unnamed: 34        NaN  2024-04-01 00:00:00          NaN\n",
      "16884     Unnamed: 37        NaN  2024-04-01 00:00:00          NaN\n",
      "16894     Unnamed: 47        NaN  2024-04-01 00:00:00          NaN\n",
      "\n",
      "[16896 rows x 4 columns]\n"
     ]
    }
   ],
   "source": [
    "properties_long = pd.melt(properties_transpose4, id_vars=['city','ID'], var_name = 'yyyy-mm', value_name = 'cost').sort_values('ID')\n",
    "print(properties_long)"
   ]
  },
  {
   "cell_type": "markdown",
   "metadata": {
    "colab_type": "text",
    "id": "7kIsgAo7o3mf"
   },
   "source": [
    "Remember to make sure your column data types are all correct. Average prices, for example, should be floating point numbers... "
   ]
  },
  {
   "cell_type": "code",
   "execution_count": 297,
   "metadata": {
    "colab": {},
    "colab_type": "code",
    "id": "ZcR4IHbcpOaq"
   },
   "outputs": [
    {
     "name": "stdout",
     "output_type": "stream",
     "text": [
      "                 city         ID    yyyy-mm         cost\n",
      "0      City of London  E09000001 1995-01-01  91448.98487\n",
      "7056   City of London  E09000001 2007-04-01  419005.3235\n",
      "1056   City of London  E09000001 1996-11-01  99706.77553\n",
      "7008   City of London  E09000001 2007-03-01   403144.195\n",
      "15360  City of London  E09000001 2021-09-01     910270.0\n",
      "...               ...        ...        ...          ...\n",
      "16836     Unnamed: 37        NaN 2024-03-01          NaN\n",
      "16846     Unnamed: 47        NaN 2024-03-01          NaN\n",
      "16881     Unnamed: 34        NaN 2024-04-01          NaN\n",
      "16884     Unnamed: 37        NaN 2024-04-01          NaN\n",
      "16894     Unnamed: 47        NaN 2024-04-01          NaN\n",
      "\n",
      "[16896 rows x 4 columns]\n"
     ]
    }
   ],
   "source": [
    " properties_long['yyyy-mm']= pd.to_datetime( properties_long['yyyy-mm'], format=\"%Y/%m/%d\")\n",
    "print(properties_long)"
   ]
  },
  {
   "cell_type": "markdown",
   "metadata": {
    "colab_type": "text",
    "id": "knLUXHLypOtw"
   },
   "source": [
    "**2.5. Cleaning the data (part 3)**\n",
    "\n",
    "Do we have an equal number of observations in the ID, Average Price, Month, and London Borough columns? Remember that there are only 32 London Boroughs. How many entries do you have in that column? \n",
    "\n",
    "Check out the contents of the London Borough column, and if you find null values, get rid of them however you see fit. "
   ]
  },
  {
   "cell_type": "code",
   "execution_count": 419,
   "metadata": {
    "colab": {},
    "colab_type": "code",
    "id": "BnvTW5a3p0fC"
   },
   "outputs": [
    {
     "name": "stdout",
     "output_type": "stream",
     "text": [
      "[]\n",
      "34\n"
     ]
    }
   ],
   "source": [
    "properties_long.count()\n",
    "properties_drop = properties_long.dropna()\n",
    "properties_drop = properties_drop.rename(columns={'city':'borough'})\n",
    "actual_borough = ['City of London', 'Westminster', 'Kensington & Chelsea', 'Hammersmith & Fulham', 'Wandsworth', \n",
    "                                                                       'Lambeth', 'Southwark', 'Tower Hamlets', 'Hackney', 'Islington', 'Camden', 'Brent', 'Ealing', 'Hounslow', 'Richmond upon Thames', 'Kingston upon Thames', 'Merton', 'Sutton', 'Croydon', 'Bromley', 'Lewisham', 'Greenwich', 'Bexley', 'Havering', 'Barking & Dagenham',\n",
    "                                                                       'Redbridge', 'Newham', 'Waltham Forest', 'Haringey', 'Enfield', 'Barnet', 'Harrow', 'Hillingdon','England']\n",
    "properties_borough = properties_drop[properties_drop['borough'].isin(actual_borough)==True]\n",
    "################################\n",
    "#Identify the list of actual boroughs to the list from the data so as to confirm those are the only ones in my dataset.\n",
    "def setdiff_sorted(array1,array2,assume_unique=False):\n",
    "    ans = np.setdiff1d(array1,array2,assume_unique).tolist()\n",
    "    if assume_unique:\n",
    "        return sorted(ans)\n",
    "    return ans\n",
    "main_list = setdiff_sorted(actual_borough,list(properties_borough['borough']))\n",
    "#print(main_list)\n",
    "#print(properties_borough['borough'].drop_duplicates().count())\n",
    "###############################"
   ]
  },
  {
   "cell_type": "markdown",
   "metadata": {
    "colab_type": "text",
    "id": "PGEx6mJsp6dG"
   },
   "source": [
    "**2.6. Visualizing the data**\n",
    "\n",
    "To visualize the data, why not subset on a particular London Borough? Maybe do a line plot of Month against Average Price?"
   ]
  },
  {
   "cell_type": "code",
   "execution_count": 449,
   "metadata": {
    "colab": {},
    "colab_type": "code",
    "id": "nAg5pT9cqHAR"
   },
   "outputs": [
    {
     "data": {
      "image/png": "[encoded data removed]",
      "text/plain": [
       "<Figure size 640x480 with 1 Axes>"
      ]
     },
     "metadata": {},
     "output_type": "display_data"
    },
    {
     "name": "stdout",
     "output_type": "stream",
     "text": [
      "           borough         ID    yyyy-mm         cost\n",
      "32     Westminster  E09000033 1995-01-01  133025.2772\n",
      "80     Westminster  E09000033 1995-02-01  131468.3096\n",
      "128    Westminster  E09000033 1995-03-01  132260.3417\n",
      "176    Westminster  E09000033 1995-04-01  133370.2036\n",
      "224    Westminster  E09000033 1995-05-01  133911.1117\n",
      "...            ...        ...        ...          ...\n",
      "16688  Westminster  E09000033 2023-12-01    1006777.0\n",
      "16736  Westminster  E09000033 2024-01-01     985654.0\n",
      "16784  Westminster  E09000033 2024-02-01     983505.0\n",
      "16832  Westminster  E09000033 2024-03-01     940300.0\n",
      "16880  Westminster  E09000033 2024-04-01     969527.0\n",
      "\n",
      "[352 rows x 4 columns]\n"
     ]
    }
   ],
   "source": [
    "westminster_data = properties_borough[properties_borough['borough']=='Westminster'].sort_values('yyyy-mm')\n",
    "westminster_data.plot(x='yyyy-mm',y='cost')\n",
    "plt.show()"
   ]
  },
  {
   "cell_type": "markdown",
   "metadata": {
    "colab_type": "text",
    "id": "aWTPqSJeqHnC"
   },
   "source": [
    "To limit the number of data points you have, you might want to extract the year from every month value your *Month* column. \n",
    "\n",
    "To this end, you *could* apply a ***lambda function***. Your logic could work as follows:\n",
    "1. look through the `Month` column\n",
    "2. extract the year from each individual value in that column \n",
    "3. store that corresponding year as separate column. \n",
    "\n",
    "Whether you go ahead with this is up to you. Just so long as you answer our initial brief: which boroughs of London have seen the greatest house price increase, on average, over the past two decades? "
   ]
  },
  {
   "cell_type": "code",
   "execution_count": null,
   "metadata": {},
   "outputs": [],
   "source": []
  },
  {
   "cell_type": "code",
   "execution_count": 693,
   "metadata": {
    "colab": {},
    "colab_type": "code",
    "id": "e0DF92cyqnu8"
   },
   "outputs": [
    {
     "name": "stdout",
     "output_type": "stream",
     "text": [
      "    index               borough        avg_diff percent_diff\n",
      "0       0               Hackney   521701.273455   790.163437\n",
      "1       0        Waltham Forest   427713.519537   697.966149\n",
      "2       0        City of London   680614.741844   686.899819\n",
      "3       0             Southwark   414740.446255   645.409429\n",
      "4       0               Lambeth   438474.308682   643.814489\n",
      "5       0                Newham   343312.273595   629.074008\n",
      "6       0              Lewisham   369064.483985   626.789088\n",
      "7       0           Westminster   836057.266967   625.373673\n",
      "8       0             Islington   576624.430688   603.447242\n",
      "9       0                 Brent    438774.40816   600.815224\n",
      "10      0             Greenwich   380161.213422   599.719977\n",
      "11      0            Wandsworth   530097.416925   596.761104\n",
      "12      0              Haringey    477790.76075   596.653065\n",
      "13      0         Tower Hamlets    378531.05399   594.684223\n",
      "14      0                Merton   465698.747352   578.502352\n",
      "15      0  Richmond upon Thames   616098.475992   560.638572\n",
      "16      0                Camden   660166.568217   548.459462\n",
      "17      0             Redbridge   395131.509421   544.404572\n",
      "18      0  Kingston upon Thames   449206.263843   542.264319\n",
      "19      0                Ealing   438349.075208   539.714636\n",
      "20      0    Barking & Dagenham    275242.78061   531.172456\n",
      "21      0                Barnet   485777.462568    529.21237\n",
      "22      0              Hounslow   382355.829155   524.197548\n",
      "23      0  Kensington & Chelsea  1004317.989367   520.757158\n",
      "24      0                Bexley   334610.967155   520.458842\n",
      "25      0  Hammersmith & Fulham   630654.997392   511.737438\n",
      "26      0                Harrow   426434.263681   510.580563\n",
      "27      0            Hillingdon   373187.243992   505.977112\n",
      "28      0              Havering    343883.98727   503.630473\n",
      "29      0                Sutton   353489.445362   502.892139\n",
      "30      0               Bromley   409275.433268   499.315397\n",
      "31      0               Enfield   349246.265112    485.17049\n",
      "32      0               Croydon   324087.409155   470.214306\n",
      "33      0               England   243939.371921   457.480294\n"
     ]
    }
   ],
   "source": [
    "max_diff = 0\n",
    "max_borough = \"null\"\n",
    "diff_array = pd.DataFrame([0,1,2])\n",
    "for x in actual_borough:\n",
    "    borough_data = properties_borough[properties_borough[\"borough\"]==x].sort_values('yyyy-mm')\n",
    "    borough_data['year'] = borough_data['yyyy-mm'].dt.year\n",
    "    borough_data['month'] = borough_data['yyyy-mm'].dt.month\n",
    "    last_year = borough_data.groupby(['year']).agg({'cost':'mean'}).iloc[-1,0]\n",
    "    first_year= borough_data.groupby(['year']).agg({'cost':'mean'}).iloc[0,0]\n",
    "    diff = (last_year-first_year)\n",
    "    perc_diff= (last_year-first_year)/first_year*100\n",
    "    diff_array = pd.concat([diff_array,pd.DataFrame([x,diff,perc_diff])],axis=1)\n",
    "diff_array = diff_array.T.iloc[1:].sort_values(by=2, ascending=False)\n",
    "diff_average = diff_array.rename(columns = {0:'borough',1:'avg_diff',2:'percent_diff'})\n",
    "print(diff_average.reset_index())"
   ]
  },
  {
   "cell_type": "markdown",
   "metadata": {
    "colab_type": "text",
    "id": "2knuTxAEqoJ4"
   },
   "source": [
    "**3. Modeling**\n",
    "\n",
    "Consider creating a function that will calculate a ratio of house prices, comparing the price of a house in 2018 to the price in 1998.\n",
    "\n",
    "Consider calling this function create_price_ratio.\n",
    "\n",
    "You'd want this function to:\n",
    "1. Take a filter of dfg, specifically where this filter constrains the London_Borough, as an argument. For example, one admissible argument should be: dfg[dfg['London_Borough']=='Camden'].\n",
    "2. Get the Average Price for that Borough, for the years 1998 and 2018.\n",
    "4. Calculate the ratio of the Average Price for 1998 divided by the Average Price for 2018.\n",
    "5. Return that ratio.\n",
    "\n",
    "Once you've written this function, you ultimately want to use it to iterate through all the unique London_Boroughs and work out the ratio capturing the difference of house prices between 1998 and 2018.\n",
    "\n",
    "Bear in mind: you don't have to write a function like this if you don't want to. If you can solve the brief otherwise, then great! \n",
    "\n",
    "***Hint***: This section should test the skills you acquired in:\n",
    "- Python Data Science Toolbox - Part One, all modules"
   ]
  },
  {
   "cell_type": "code",
   "execution_count": 699,
   "metadata": {
    "colab": {},
    "colab_type": "code",
    "id": "cKTyr437UgDa"
   },
   "outputs": [
    {
     "name": "stdout",
     "output_type": "stream",
     "text": [
      "    index               borough  ratio\n",
      "0       0               Hackney  16.13\n",
      "1       0        Waltham Forest  17.14\n",
      "2       0             Southwark  18.13\n",
      "3       0              Lewisham  18.35\n",
      "4       0           Westminster  18.68\n",
      "5       0                Newham  18.85\n",
      "6       0        City of London  18.86\n",
      "7       0              Haringey  19.48\n",
      "8       0  Kensington & Chelsea  19.68\n",
      "9       0               Lambeth  20.17\n",
      "10      0                Camden  20.26\n",
      "11      0    Barking & Dagenham  20.42\n",
      "12      0                 Brent  20.43\n",
      "13      0             Islington  20.64\n",
      "14      0             Greenwich   21.0\n",
      "15      0            Wandsworth  21.02\n",
      "16      0                Merton  21.09\n",
      "17      0         Tower Hamlets  21.61\n",
      "18      0             Redbridge  22.37\n",
      "19      0                Barnet  22.95\n",
      "20      0              Havering  23.12\n",
      "21      0                Ealing  23.19\n",
      "22      0  Kingston upon Thames  23.42\n",
      "23      0               Enfield  23.46\n",
      "24      0                Bexley  23.54\n",
      "25      0               Croydon   23.8\n",
      "26      0            Hillingdon  23.81\n",
      "27      0  Hammersmith & Fulham  24.17\n",
      "28      0                Sutton  24.28\n",
      "29      0               Bromley  24.42\n",
      "30      0                Harrow  24.64\n",
      "31      0  Richmond upon Thames  24.97\n",
      "32      0              Hounslow  25.15\n",
      "33      0               England  26.24\n"
     ]
    }
   ],
   "source": [
    "ratio = 0\n",
    "max_borough = \"null\"\n",
    "ratio_df = pd.DataFrame([0,1])\n",
    "\n",
    "\n",
    "def create_price_ratio(x):\n",
    "    y2018 = x[x['year']==2018].loc[:,'cost'].mean()\n",
    "    y1998 = x[x['year']==1998].loc[:,'cost'].mean()\n",
    "    return round(y1998/y2018*100,2)\n",
    "\n",
    "\n",
    "for x in actual_borough:\n",
    "    df_borough = properties_borough[properties_borough['borough']==x]\n",
    "    ratio = create_price_ratio(df_borough)\n",
    "    ratio_df = pd.concat([ratio_df,pd.DataFrame([x,ratio])],axis=1)\n",
    "\n",
    "ratio_df = ratio_df.T.iloc[1:].sort_values(by=1, ascending=True)\n",
    "ratio_df = ratio_df.rename(columns = {0:'borough',1:'ratio'})\n",
    "print(ratio_df.reset_index())"
   ]
  },
  {
   "cell_type": "markdown",
   "metadata": {
    "colab_type": "text",
    "id": "NzYUI7FxJpgv"
   },
   "source": [
    "### 4. Conclusion\n",
    "What can you conclude? Type out your conclusion below. \n",
    "\n",
    "Look back at your notebook. Think about how you might summarize what you have done, and prepare a quick presentation on it to your mentor at your next meeting. \n",
    "We hope you enjoyed this practical project. It should have consolidated your data hygiene and pandas skills by looking at a real-world problem involving just the kind of dataset you might encounter as a budding data scientist. Congratulations, and looking forward to seeing you at the next step in the course!\n",
    "\n",
    "Borough          2024 & 1995 Price Difference    2024 & 1995 Percent Difference\n",
    "Hackney          521701.273455                   790.163437\n",
    "Waltham Forest   427713.519537                   697.966149\n",
    "City of London   680614.741844                   686.899819\n",
    "Southwark       414740.446255                    645.409429\n",
    "Lambeth         438474.308682                    643.814489\n",
    "Newham          343312.273595                    629.074008\n",
    "Lewisham        369064.483985                    626.789088\n",
    "Westminster     836057.266967                    625.373673\n",
    "Islington      576624.430688                     603.447242\n",
    "Brent           438774.40816                     600.815224\n",
    "\n",
    "Index                  Borough  Price Ratio\n",
    "0                      Hackney  16.13\n",
    "1               Waltham Forest  17.14\n",
    "2                    Southwark  18.13\n",
    "3                     Lewisham  18.35\n",
    "4                  Westminster  18.68\n",
    "5                       Newham  18.85\n",
    "6               City of London  18.86\n",
    "7                     Haringey  19.48\n",
    "8        Kensington & Chelsea  19.68\n",
    "9                     Lambeth  20.17\n",
    "\n",
    "In short, Hackney, Westminster, City of London are the boroughs with the highest increase in house prices and still within the top 10 rate of increase in house prices since 1995. Additionally, they remain to have the lowest 10 ratio price ratios which indicates that they are also one of the most consistently increasing in prices over a shorter time frame as well. Despite that being true, Islington is the newest member in the top 10 rates of house price increases that wasn't present between 1998 and 2018, indicating that they may be an up and coming market in demand for new homeowners."
   ]
  },
  {
   "cell_type": "raw",
   "metadata": {},
   "source": []
  },
  {
   "cell_type": "code",
   "execution_count": null,
   "metadata": {},
   "outputs": [],
   "source": []
  },
  {
   "cell_type": "code",
   "execution_count": null,
   "metadata": {},
   "outputs": [],
   "source": []
  }
 ],
 "metadata": {
  "colab": {
   "collapsed_sections": [],
   "name": "Springboard Data Science Career Track Unit 4 Challenge - Tier 3 Complete .ipynb",
   "provenance": []
  },
  "kernelspec": {
   "display_name": "Python 3 (ipykernel)",
   "language": "python",
   "name": "python3"
  },
  "language_info": {
   "codemirror_mode": {
    "name": "ipython",
    "version": 3
   },
   "file_extension": ".py",
   "mimetype": "text/x-python",
   "name": "python",
   "nbconvert_exporter": "python",
   "pygments_lexer": "ipython3",
   "version": "3.12.4"
  }
 },
 "nbformat": 4,
 "nbformat_minor": 4
}
